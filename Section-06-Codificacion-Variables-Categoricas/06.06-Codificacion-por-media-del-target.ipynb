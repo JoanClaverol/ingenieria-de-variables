{
 "cells": [
  {
   "cell_type": "markdown",
   "metadata": {},
   "source": [
    "## Codificación guiada por la variable objetivo o target\n",
    "\n",
    "En las lecciones anteriores de esta sección, vimos como convertir una etiqueta en un número usando codificación one-hot, reemplazando por un dígito o reemplazando por la frecuencia o número de observaciones. Estos métodos son sencillos, y no (o casi nunca) hacen supuestos sobre los datos y funcionan generalmente bien en una variedad de escenarios.\n",
    "\n",
    "Hay métodos que por el contrario si permiten capturar  información y a la vez pre-procesar las etiquetas de una variable categórica. Estos métodos incluyen:\n",
    "\n",
    "- Ordenar las etiquetas de acuerdo al target\n",
    "- Reemplazar las etiquetas por el promedio del target (codificación por la media / por el target) \n",
    "- Reemplazar las etiquetas por el radio de probabilidad del target - ya sea 1 o 0\n",
    "- Pesos de evidencia (Weight of evidence)\n",
    "\n",
    "Todos estos métodos tienen algo en común:\n",
    "- la codificación es **guiada por el target**, y\n",
    "- crean una **relación monotónica** entre la variable y el target\n",
    "\n",
    "\n",
    "### Monotonicidad\n",
    "\n",
    "Una relación monotónica es una relación que tiene lo siguiente:\n",
    "\n",
    "- (1) cuando el valor de una variable incrementa, asi mismo sucede con la otra variable; o\n",
    "- (2) cuando el valor de una variable incrementa, el valor de la otra variable decrece.\n",
    "\n",
    "En este caso, si el valor de la variable independiente (predictor) incrementa, lo mismo sucede con el target (variable objetivo), o por el contrario, si la variable incrementa, el valor del target decrece.\n",
    "\n",
    "\n",
    "### Ventajas \n",
    "\n",
    "- Captura la información dentro de la categoría, por lo tanto incrementa el poder predictivo de las variables.\n",
    "- Crea una relación monotónica entre la variable y el target, por lo tanto es adecuada para modelos lineales.\n",
    "- No expande el espacio de las variables\n",
    "\n",
    "\n",
    "### Limitaciones\n",
    "\n",
    "- Tiende a causar sobreajustes\n",
    "- Es difícil de validar usando las librerías existentes\n",
    "\n",
    "### Nota\n",
    "\n",
    "Los métodos discutidos en esta y las próximas 3 lecciones pueden ser usados con variables numéricas, luego de discretizarlas. Esto crea una relación monotónica entre la variable numérica y el target y por lo tanto mejora el desempeño de los modelos lineales. Discutiremos esto en más detalle en la sección \"Discretización\"\n",
    "\n",
    "\n",
    "===============================================================================\n",
    "\n",
    "\n",
    "## Codificación por la media del target o variable objetivo\n",
    "\n",
    "La codificación por la media del target o variable objetivo implica reemplazar cada categoría por el promedio o media del valor del target para dicha categoría. Por ejemplo, si tenemos la variable ciudad, con las categorías de Londres, Manchester y Bristol, y tenemos la tasa promedio de incumplimiento de pago de préstamos para cada ciudad. Si Londres tiene una tasa de 30%,  reemplazamos Londres con 0.3, si la tasa es 20% para Manchester, reemplazamos esta categoría con 0.20 y asi sucesivamente.\n",
    "\n",
    "Vamos a realizar codificación por la media usando:\n",
    "- pandas\n",
    "- Feature-Engine\n",
    "\n",
    "y veremos las ventajas y limitaciones de cada una de estas implementaciones usando los datos del Titanic.\n",
    "\n",
    "\n"
   ]
  },
  {
   "cell_type": "code",
   "execution_count": 1,
   "metadata": {},
   "outputs": [],
   "source": [
    "import numpy as np\n",
    "import pandas as pd\n",
    "\n",
    "import matplotlib.pyplot as plt\n",
    "\n",
    "# separar los datos\n",
    "from sklearn.model_selection import train_test_split\n",
    "\n",
    "# codificación con feature-engine\n",
    "from feature_engine.encoding import MeanEncoder"
   ]
  },
  {
   "cell_type": "code",
   "execution_count": 2,
   "metadata": {},
   "outputs": [
    {
     "data": {
      "text/html": [
       "<div>\n",
       "<style scoped>\n",
       "    .dataframe tbody tr th:only-of-type {\n",
       "        vertical-align: middle;\n",
       "    }\n",
       "\n",
       "    .dataframe tbody tr th {\n",
       "        vertical-align: top;\n",
       "    }\n",
       "\n",
       "    .dataframe thead th {\n",
       "        text-align: right;\n",
       "    }\n",
       "</style>\n",
       "<table border=\"1\" class=\"dataframe\">\n",
       "  <thead>\n",
       "    <tr style=\"text-align: right;\">\n",
       "      <th></th>\n",
       "      <th>survived</th>\n",
       "      <th>sex</th>\n",
       "      <th>cabin</th>\n",
       "      <th>embarked</th>\n",
       "    </tr>\n",
       "  </thead>\n",
       "  <tbody>\n",
       "    <tr>\n",
       "      <th>0</th>\n",
       "      <td>1</td>\n",
       "      <td>female</td>\n",
       "      <td>B5</td>\n",
       "      <td>S</td>\n",
       "    </tr>\n",
       "    <tr>\n",
       "      <th>1</th>\n",
       "      <td>1</td>\n",
       "      <td>male</td>\n",
       "      <td>C22</td>\n",
       "      <td>S</td>\n",
       "    </tr>\n",
       "    <tr>\n",
       "      <th>2</th>\n",
       "      <td>0</td>\n",
       "      <td>female</td>\n",
       "      <td>C22</td>\n",
       "      <td>S</td>\n",
       "    </tr>\n",
       "    <tr>\n",
       "      <th>3</th>\n",
       "      <td>0</td>\n",
       "      <td>male</td>\n",
       "      <td>C22</td>\n",
       "      <td>S</td>\n",
       "    </tr>\n",
       "    <tr>\n",
       "      <th>4</th>\n",
       "      <td>0</td>\n",
       "      <td>female</td>\n",
       "      <td>C22</td>\n",
       "      <td>S</td>\n",
       "    </tr>\n",
       "  </tbody>\n",
       "</table>\n",
       "</div>"
      ],
      "text/plain": [
       "   survived     sex cabin embarked\n",
       "0         1  female    B5        S\n",
       "1         1    male   C22        S\n",
       "2         0  female   C22        S\n",
       "3         0    male   C22        S\n",
       "4         0  female   C22        S"
      ]
     },
     "execution_count": 2,
     "metadata": {},
     "output_type": "execute_result"
    }
   ],
   "source": [
    "# cargar datos\n",
    "\n",
    "data = pd.read_csv(\n",
    "    '../titanic.csv',\n",
    "    usecols=['cabin', 'sex', 'embarked', 'survived'])\n",
    "\n",
    "data.head()"
   ]
  },
  {
   "cell_type": "code",
   "execution_count": 3,
   "metadata": {},
   "outputs": [],
   "source": [
    "# llenar valores ausentes na en la variable embarked\n",
    "\n",
    "data['embarked'].fillna('Missing', inplace=True)"
   ]
  },
  {
   "cell_type": "code",
   "execution_count": 4,
   "metadata": {},
   "outputs": [],
   "source": [
    "# Ahora reemplazamos los valores de la variable cabin \n",
    "# con la primera letra de cada etiqueta en cabin\n",
    "# simplificando de esta forma los valores en la variable \n",
    "# y facilitar el demo \n",
    "\n",
    "data['cabin'] = data['cabin'].astype(str).str[0]"
   ]
  },
  {
   "cell_type": "code",
   "execution_count": 5,
   "metadata": {},
   "outputs": [
    {
     "name": "stdout",
     "output_type": "stream",
     "text": [
      "survived :  2  etiquetas\n",
      "sex :  2  etiquetas\n",
      "cabin :  9  etiquetas\n",
      "embarked :  4  etiquetas\n"
     ]
    }
   ],
   "source": [
    "# miremos cuantas categorías tiene cada variable\n",
    "\n",
    "for col in data.columns:\n",
    "    print(col, ': ', len(data[col].unique()), ' etiquetas')"
   ]
  },
  {
   "cell_type": "code",
   "execution_count": 6,
   "metadata": {},
   "outputs": [
    {
     "data": {
      "text/plain": [
       "array(['B', 'C', 'E', 'D', 'A', 'n', 'T', 'F', 'G'], dtype=object)"
      ]
     },
     "execution_count": 6,
     "metadata": {},
     "output_type": "execute_result"
    }
   ],
   "source": [
    "# exploremos las categorías en cada variable\n",
    "\n",
    "data['cabin'].unique()"
   ]
  },
  {
   "cell_type": "code",
   "execution_count": 7,
   "metadata": {},
   "outputs": [
    {
     "data": {
      "text/plain": [
       "array(['female', 'male'], dtype=object)"
      ]
     },
     "execution_count": 7,
     "metadata": {},
     "output_type": "execute_result"
    }
   ],
   "source": [
    "data['sex'].unique()"
   ]
  },
  {
   "cell_type": "code",
   "execution_count": 8,
   "metadata": {},
   "outputs": [
    {
     "data": {
      "text/plain": [
       "array(['S', 'C', 'Missing', 'Q'], dtype=object)"
      ]
     },
     "execution_count": 8,
     "metadata": {},
     "output_type": "execute_result"
    }
   ],
   "source": [
    "data['embarked'].unique()"
   ]
  },
  {
   "cell_type": "markdown",
   "metadata": {},
   "source": [
    "### Importante sobre codificación\n",
    "\n",
    "Calculamos la media del target por cada categoría usando el set de entrenamiento; y luego usamos este mapeo para codificar las variables en el set de prueba\n",
    "\n",
    "**Para usar esta técnica con pandas, necesitmaos mantener el target en el set de entrenamiento**"
   ]
  },
  {
   "cell_type": "code",
   "execution_count": 9,
   "metadata": {},
   "outputs": [
    {
     "data": {
      "text/plain": [
       "((916, 4), (393, 4))"
      ]
     },
     "execution_count": 9,
     "metadata": {},
     "output_type": "execute_result"
    }
   ],
   "source": [
    "# separemos en set de prueba y entrenamiento\n",
    "X_train, X_test, y_train, y_test = train_test_split(\n",
    "    data[['cabin', 'sex', 'embarked', 'survived']], # esta vez mantenemos el target en la variable\n",
    "    data['survived'],  # target\n",
    "    test_size=0.3,  # porcentaje de observaciones en el set de prueba\n",
    "    random_state=0)  # semilla asegurar reproducibilidad\n",
    "\n",
    "X_train.shape, X_test.shape"
   ]
  },
  {
   "cell_type": "markdown",
   "metadata": {},
   "source": [
    "### Exploremos la relación original entre las variables categóricas y el target"
   ]
  },
  {
   "cell_type": "code",
   "execution_count": 10,
   "metadata": {},
   "outputs": [
    {
     "data": {
      "image/png": "[encoded data removed]",
      "text/plain": [
       "<Figure size 432x288 with 1 Axes>"
      ]
     },
     "metadata": {
      "needs_background": "light"
     },
     "output_type": "display_data"
    },
    {
     "data": {
      "image/png": "[encoded data removed]",
      "text/plain": [
       "<Figure size 432x288 with 1 Axes>"
      ]
     },
     "metadata": {
      "needs_background": "light"
     },
     "output_type": "display_data"
    },
    {
     "data": {
      "image/png": "[encoded data removed]",
      "text/plain": [
       "<Figure size 432x288 with 1 Axes>"
      ]
     },
     "metadata": {
      "needs_background": "light"
     },
     "output_type": "display_data"
    }
   ],
   "source": [
    "# Exploremos la relación original entre las variables categóricas \n",
    "# y el target (survived)\n",
    "\n",
    "for var in ['cabin', 'sex', 'embarked']:\n",
    "    \n",
    "    fig = plt.figure()\n",
    "    fig = X_train.groupby([var])['survived'].mean().plot()\n",
    "    fig.set_title('Relación entre {} y target: survived'.format(var))\n",
    "    fig.set_ylabel('Promedio supervivencia')\n",
    "    plt.show()"
   ]
  },
  {
   "cell_type": "markdown",
   "metadata": {},
   "source": [
    "Podemos ver en la relación entre el target y las variables cabin y embarked, que esta sube y baja dependiendo de la categoría. \n",
    "\n",
    "\n",
    "## Codificación por la media con pandas\n",
    "\n",
    "### Ventajas\n",
    "\n",
    "- rápido\n",
    "- devuelve un dataframe de pandas\n",
    "\n",
    "### Limitaciones:\n",
    "\n",
    "- no preserva la información del set de entrenamiento para propagarlo al set de prueba\n",
    "\n",
    "Necesitamos capturar y guardar los mapeos uno por uno, manualmente, si estamos planeando usarlos en producción\n"
   ]
  },
  {
   "cell_type": "code",
   "execution_count": 11,
   "metadata": {},
   "outputs": [
    {
     "data": {
      "text/plain": [
       "cabin\n",
       "A    0.529412\n",
       "B    0.761905\n",
       "C    0.563380\n",
       "D    0.718750\n",
       "E    0.718750\n",
       "F    0.666667\n",
       "G    0.500000\n",
       "T    0.000000\n",
       "n    0.304843\n",
       "Name: survived, dtype: float64"
      ]
     },
     "execution_count": 11,
     "metadata": {},
     "output_type": "execute_result"
    }
   ],
   "source": [
    "# calculemos el promedio del target para cada categoría\n",
    "X_train.groupby(['cabin'])['survived'].mean()"
   ]
  },
  {
   "cell_type": "code",
   "execution_count": 12,
   "metadata": {},
   "outputs": [
    {
     "data": {
      "text/plain": [
       "{'A': 0.5294117647058824,\n",
       " 'B': 0.7619047619047619,\n",
       " 'C': 0.5633802816901409,\n",
       " 'D': 0.71875,\n",
       " 'E': 0.71875,\n",
       " 'F': 0.6666666666666666,\n",
       " 'G': 0.5,\n",
       " 'T': 0.0,\n",
       " 'n': 0.30484330484330485}"
      ]
     },
     "execution_count": 12,
     "metadata": {},
     "output_type": "execute_result"
    }
   ],
   "source": [
    "# hagamos lo mismo pero capturemos la información en un diccionario\n",
    "\n",
    "ordered_labels = X_train.groupby(['cabin'])['survived'].mean().to_dict()\n",
    "\n",
    "ordered_labels"
   ]
  },
  {
   "cell_type": "code",
   "execution_count": 13,
   "metadata": {},
   "outputs": [],
   "source": [
    "# ahora, reemplacemos las etiquetas con el promedio del target\n",
    "X_train['cabin'] = X_train['cabin'].map(ordered_labels)\n",
    "X_test['cabin'] = X_test['cabin'].map(ordered_labels)"
   ]
  },
  {
   "cell_type": "code",
   "execution_count": 14,
   "metadata": {},
   "outputs": [
    {
     "data": {
      "text/plain": [
       "501     0.304843\n",
       "588     0.304843\n",
       "402     0.304843\n",
       "1193    0.304843\n",
       "686     0.304843\n",
       "971     0.304843\n",
       "117     0.718750\n",
       "540     0.304843\n",
       "294     0.563380\n",
       "261     0.718750\n",
       "Name: cabin, dtype: float64"
      ]
     },
     "execution_count": 14,
     "metadata": {},
     "output_type": "execute_result"
    }
   ],
   "source": [
    "# exploremos el resultado\n",
    "\n",
    "X_train['cabin'].head(10)"
   ]
  },
  {
   "cell_type": "code",
   "execution_count": 15,
   "metadata": {},
   "outputs": [],
   "source": [
    "# agrupemos los comandos anteriores en dos funciones\n",
    "\n",
    "def find_category_mappings(df, variable, target):\n",
    "    return df.groupby([variable])[target].mean().to_dict()\n",
    "\n",
    "\n",
    "def integer_encode(train, test, variable, ordinal_mapping):\n",
    "\n",
    "    X_train[variable] = X_train[variable].map(ordinal_mapping)\n",
    "    X_test[variable] = X_test[variable].map(ordinal_mapping)"
   ]
  },
  {
   "cell_type": "code",
   "execution_count": 16,
   "metadata": {},
   "outputs": [],
   "source": [
    "# ahora repitamos el proceso (con un ciclo) para cada una de \n",
    "# las variables categóricas\n",
    "\n",
    "for variable in ['sex', 'embarked']:\n",
    "    mappings = find_category_mappings(X_train, variable, 'survived')\n",
    "    integer_encode(X_train, X_test, variable, mappings)"
   ]
  },
  {
   "cell_type": "code",
   "execution_count": 17,
   "metadata": {},
   "outputs": [
    {
     "data": {
      "text/html": [
       "<div>\n",
       "<style scoped>\n",
       "    .dataframe tbody tr th:only-of-type {\n",
       "        vertical-align: middle;\n",
       "    }\n",
       "\n",
       "    .dataframe tbody tr th {\n",
       "        vertical-align: top;\n",
       "    }\n",
       "\n",
       "    .dataframe thead th {\n",
       "        text-align: right;\n",
       "    }\n",
       "</style>\n",
       "<table border=\"1\" class=\"dataframe\">\n",
       "  <thead>\n",
       "    <tr style=\"text-align: right;\">\n",
       "      <th></th>\n",
       "      <th>cabin</th>\n",
       "      <th>sex</th>\n",
       "      <th>embarked</th>\n",
       "      <th>survived</th>\n",
       "    </tr>\n",
       "  </thead>\n",
       "  <tbody>\n",
       "    <tr>\n",
       "      <th>501</th>\n",
       "      <td>0.304843</td>\n",
       "      <td>0.728358</td>\n",
       "      <td>0.338957</td>\n",
       "      <td>1</td>\n",
       "    </tr>\n",
       "    <tr>\n",
       "      <th>588</th>\n",
       "      <td>0.304843</td>\n",
       "      <td>0.728358</td>\n",
       "      <td>0.338957</td>\n",
       "      <td>1</td>\n",
       "    </tr>\n",
       "    <tr>\n",
       "      <th>402</th>\n",
       "      <td>0.304843</td>\n",
       "      <td>0.728358</td>\n",
       "      <td>0.553073</td>\n",
       "      <td>1</td>\n",
       "    </tr>\n",
       "    <tr>\n",
       "      <th>1193</th>\n",
       "      <td>0.304843</td>\n",
       "      <td>0.187608</td>\n",
       "      <td>0.373494</td>\n",
       "      <td>0</td>\n",
       "    </tr>\n",
       "    <tr>\n",
       "      <th>686</th>\n",
       "      <td>0.304843</td>\n",
       "      <td>0.728358</td>\n",
       "      <td>0.373494</td>\n",
       "      <td>1</td>\n",
       "    </tr>\n",
       "  </tbody>\n",
       "</table>\n",
       "</div>"
      ],
      "text/plain": [
       "         cabin       sex  embarked  survived\n",
       "501   0.304843  0.728358  0.338957         1\n",
       "588   0.304843  0.728358  0.338957         1\n",
       "402   0.304843  0.728358  0.553073         1\n",
       "1193  0.304843  0.187608  0.373494         0\n",
       "686   0.304843  0.728358  0.373494         1"
      ]
     },
     "execution_count": 17,
     "metadata": {},
     "output_type": "execute_result"
    }
   ],
   "source": [
    "# veamos el resultado \n",
    "X_train.head()"
   ]
  },
  {
   "cell_type": "code",
   "execution_count": 18,
   "metadata": {},
   "outputs": [
    {
     "data": {
      "image/png": "[encoded data removed]",
      "text/plain": [
       "<Figure size 432x288 with 1 Axes>"
      ]
     },
     "metadata": {
      "needs_background": "light"
     },
     "output_type": "display_data"
    },
    {
     "data": {
      "image/png": "[encoded data removed]",
      "text/plain": [
       "<Figure size 432x288 with 1 Axes>"
      ]
     },
     "metadata": {
      "needs_background": "light"
     },
     "output_type": "display_data"
    },
    {
     "data": {
      "image/png": "[encoded data removed]",
      "text/plain": [
       "<Figure size 432x288 with 1 Axes>"
      ]
     },
     "metadata": {
      "needs_background": "light"
     },
     "output_type": "display_data"
    }
   ],
   "source": [
    "# inspeccionemos la relación monotónica\n",
    "# entre las variable transformadas y el target\n",
    "\n",
    "for var in ['cabin', 'sex', 'embarked']:\n",
    "    \n",
    "    fig = plt.figure()\n",
    "    fig = X_train.groupby([var])['survived'].mean().plot()\n",
    "    fig.set_title('Relación monotónica entre {} y target: survived'.format(var))\n",
    "    fig.set_ylabel('Promedio supervivencia')\n",
    "    plt.show()"
   ]
  },
  {
   "cell_type": "markdown",
   "metadata": {},
   "source": [
    "Podemos ver en las gráficas que la relación entre las categorías y el target ahora es monotónica.\n",
    "\n",
    "### Nota\n",
    "\n",
    "Reemplazar las etiquetas con el código anterior, va a generar valores faltantes para las categorías presentes en el set de prueba pero que no lo están en el set de entrenamiento. \n",
    "\n",
    "Por lo tanto es extremadamente importante, manejar las etiquetas poco comunes con prelación. Explicaremos como hacer esto más adelante en otro notebook.\n",
    "\n"
   ]
  },
  {
   "cell_type": "markdown",
   "metadata": {},
   "source": [
    "## Codificación por la media con Feature-Engine\n",
    "\n",
    "Si usamos Feature-Engine, en lugar de pandas, no necesitamos mantener el target en el set de entrenamiento."
   ]
  },
  {
   "cell_type": "code",
   "execution_count": 19,
   "metadata": {},
   "outputs": [
    {
     "data": {
      "text/plain": [
       "((916, 3), (393, 3))"
      ]
     },
     "execution_count": 19,
     "metadata": {},
     "output_type": "execute_result"
    }
   ],
   "source": [
    "# separemos en set de prueba y entrenamiento\n",
    "X_train, X_test, y_train, y_test = train_test_split(\n",
    "    data[['cabin', 'sex', 'embarked']], # esta vez mantenemos el target en la variable\n",
    "    data['survived'],  # target\n",
    "    test_size=0.3,  # porcentaje de observaciones en el seg te prueba\n",
    "    random_state=0)  # semilla para asegurar reproducibilidad\n",
    "\n",
    "X_train.shape, X_test.shape\n"
   ]
  },
  {
   "cell_type": "code",
   "execution_count": 20,
   "metadata": {},
   "outputs": [],
   "source": [
    "mean_enc = MeanEncoder(\n",
    "    variables=['cabin', 'sex', 'embarked'])"
   ]
  },
  {
   "cell_type": "code",
   "execution_count": 21,
   "metadata": {},
   "outputs": [
    {
     "data": {
      "text/plain": [
       "MeanEncoder(variables=['cabin', 'sex', 'embarked'])"
      ]
     },
     "execution_count": 21,
     "metadata": {},
     "output_type": "execute_result"
    }
   ],
   "source": [
    "# cuando ajustamos el transformador, necesitamos pasar el target\n",
    "# tambien, como cualquier otro de los predictores en Scikit-learn \n",
    "\n",
    "mean_enc.fit(X_train, y_train)"
   ]
  },
  {
   "cell_type": "code",
   "execution_count": 22,
   "metadata": {
    "scrolled": true
   },
   "outputs": [
    {
     "data": {
      "text/plain": [
       "{'cabin': {'A': 0.5294117647058824,\n",
       "  'B': 0.7619047619047619,\n",
       "  'C': 0.5633802816901409,\n",
       "  'D': 0.71875,\n",
       "  'E': 0.71875,\n",
       "  'F': 0.6666666666666666,\n",
       "  'G': 0.5,\n",
       "  'T': 0.0,\n",
       "  'n': 0.30484330484330485},\n",
       " 'sex': {'female': 0.7283582089552239, 'male': 0.18760757314974183},\n",
       " 'embarked': {'C': 0.553072625698324,\n",
       "  'Missing': 1.0,\n",
       "  'Q': 0.37349397590361444,\n",
       "  'S': 0.3389570552147239}}"
      ]
     },
     "execution_count": 22,
     "metadata": {},
     "output_type": "execute_result"
    }
   ],
   "source": [
    "# en el dict del encoder podemos ver el promedio del target\n",
    "# asignado a cada una de las categorías por cada variable\n",
    "mean_enc.encoder_dict_"
   ]
  },
  {
   "cell_type": "code",
   "execution_count": 23,
   "metadata": {},
   "outputs": [
    {
     "data": {
      "text/plain": [
       "['cabin', 'sex', 'embarked']"
      ]
     },
     "execution_count": 23,
     "metadata": {},
     "output_type": "execute_result"
    }
   ],
   "source": [
    "# esta es la lista de variables que el codificador transforma\n",
    "mean_enc.variables"
   ]
  },
  {
   "cell_type": "code",
   "execution_count": 24,
   "metadata": {},
   "outputs": [
    {
     "data": {
      "text/html": [
       "<div>\n",
       "<style scoped>\n",
       "    .dataframe tbody tr th:only-of-type {\n",
       "        vertical-align: middle;\n",
       "    }\n",
       "\n",
       "    .dataframe tbody tr th {\n",
       "        vertical-align: top;\n",
       "    }\n",
       "\n",
       "    .dataframe thead th {\n",
       "        text-align: right;\n",
       "    }\n",
       "</style>\n",
       "<table border=\"1\" class=\"dataframe\">\n",
       "  <thead>\n",
       "    <tr style=\"text-align: right;\">\n",
       "      <th></th>\n",
       "      <th>cabin</th>\n",
       "      <th>sex</th>\n",
       "      <th>embarked</th>\n",
       "    </tr>\n",
       "  </thead>\n",
       "  <tbody>\n",
       "    <tr>\n",
       "      <th>501</th>\n",
       "      <td>0.304843</td>\n",
       "      <td>0.728358</td>\n",
       "      <td>0.338957</td>\n",
       "    </tr>\n",
       "    <tr>\n",
       "      <th>588</th>\n",
       "      <td>0.304843</td>\n",
       "      <td>0.728358</td>\n",
       "      <td>0.338957</td>\n",
       "    </tr>\n",
       "    <tr>\n",
       "      <th>402</th>\n",
       "      <td>0.304843</td>\n",
       "      <td>0.728358</td>\n",
       "      <td>0.553073</td>\n",
       "    </tr>\n",
       "    <tr>\n",
       "      <th>1193</th>\n",
       "      <td>0.304843</td>\n",
       "      <td>0.187608</td>\n",
       "      <td>0.373494</td>\n",
       "    </tr>\n",
       "    <tr>\n",
       "      <th>686</th>\n",
       "      <td>0.304843</td>\n",
       "      <td>0.728358</td>\n",
       "      <td>0.373494</td>\n",
       "    </tr>\n",
       "  </tbody>\n",
       "</table>\n",
       "</div>"
      ],
      "text/plain": [
       "         cabin       sex  embarked\n",
       "501   0.304843  0.728358  0.338957\n",
       "588   0.304843  0.728358  0.338957\n",
       "402   0.304843  0.728358  0.553073\n",
       "1193  0.304843  0.187608  0.373494\n",
       "686   0.304843  0.728358  0.373494"
      ]
     },
     "execution_count": 24,
     "metadata": {},
     "output_type": "execute_result"
    }
   ],
   "source": [
    "X_train = mean_enc.transform(X_train)\n",
    "X_test = mean_enc.transform(X_test)\n",
    "\n",
    "# exploremos los resultados\n",
    "X_train.head()"
   ]
  },
  {
   "cell_type": "markdown",
   "metadata": {},
   "source": [
    "\n",
    "**Nota**\n",
    "\n",
    "Si el argmento 'variables' se fija en 'None' (ninguno), entonces el codificador automáticamente indentificará  **todas las variables categóricas**. Maravilloso verdad?\n",
    "\n",
    "El codificador no codificará las variables numéricas. Por lo tanto, si algunas de tus variables categóricas son de hecho numéricas, necesitas hacer el 're-cast' o cambio a tipo 'object' antes de usar el codificador.\n",
    "\n",
    "Si hay una variable en el set de prueba, para el cual el codificador no tiene un número para asignar ( la categoría no estaba presente en el set de entrenamiento), el codificador devolverá un error para alertarte del problema\n",
    "\n",
    "\n"
   ]
  }
 ],
 "metadata": {
  "kernelspec": {
   "display_name": "feml",
   "language": "python",
   "name": "feml"
  },
  "language_info": {
   "codemirror_mode": {
    "name": "ipython",
    "version": 3
   },
   "file_extension": ".py",
   "mimetype": "text/x-python",
   "name": "python",
   "nbconvert_exporter": "python",
   "pygments_lexer": "ipython3",
   "version": "3.8.2"
  },
  "toc": {
   "base_numbering": 1,
   "nav_menu": {},
   "number_sections": true,
   "sideBar": true,
   "skip_h1_title": false,
   "title_cell": "Table of Contents",
   "title_sidebar": "Contents",
   "toc_cell": false,
   "toc_position": {},
   "toc_section_display": "block",
   "toc_window_display": true
  }
 },
 "nbformat": 4,
 "nbformat_minor": 2
}
